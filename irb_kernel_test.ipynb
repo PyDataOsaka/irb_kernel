{
 "cells": [
  {
   "cell_type": "code",
   "execution_count": 1,
   "metadata": {},
   "outputs": [
    {
     "name": "stdout",
     "output_type": "stream",
     "text": [
      "=> 5\r\n"
     ]
    }
   ],
   "source": [
    "1+4"
   ]
  },
  {
   "cell_type": "code",
   "execution_count": 2,
   "metadata": {},
   "outputs": [
    {
     "name": "stdout",
     "output_type": "stream",
     "text": [
      "=> true\r\n"
     ]
    }
   ],
   "source": [
    "require 'prime'"
   ]
  },
  {
   "cell_type": "code",
   "execution_count": 3,
   "metadata": {},
   "outputs": [
    {
     "name": "stdout",
     "output_type": "stream",
     "text": [
      "=> true\r\n"
     ]
    }
   ],
   "source": [
    "5.prime?"
   ]
  },
  {
   "cell_type": "code",
   "execution_count": 4,
   "metadata": {},
   "outputs": [
    {
     "name": "stdout",
     "output_type": "stream",
     "text": [
      "=> false\r\n"
     ]
    }
   ],
   "source": [
    "4.prime?"
   ]
  },
  {
   "cell_type": "code",
   "execution_count": 3,
   "metadata": {},
   "outputs": [
    {
     "name": "stdout",
     "output_type": "stream",
     "text": [
      "1\r\n",
      "1\r\n",
      "2\r\n",
      "2\r\n",
      "3\r\n",
      "3\r\n",
      "=> [1, 2, 3]\r\n"
     ]
    }
   ],
   "source": [
    "[1,2,3].each do |i|\n",
    "  p i\n",
    "  p i\n",
    "end"
   ]
  },
  {
   "cell_type": "code",
   "execution_count": null,
   "metadata": {},
   "outputs": [],
   "source": []
  }
 ],
 "metadata": {
  "kernelspec": {
   "display_name": "Irb",
   "language": "ruby",
   "name": "irb"
  },
  "language_info": {
   "codemirror_mode": "ruby",
   "file_extension": ".rb",
   "mimetype": "text/x-ruby",
   "name": "ruby"
  }
 },
 "nbformat": 4,
 "nbformat_minor": 2
}
